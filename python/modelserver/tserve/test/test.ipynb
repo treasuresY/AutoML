{
 "cells": [
  {
   "cell_type": "code",
   "execution_count": 2,
   "id": "initial_id",
   "metadata": {
    "collapsed": true,
    "ExecuteTime": {
     "end_time": "2024-04-02T15:42:34.759596200Z",
     "start_time": "2024-04-02T15:42:34.514099800Z"
    }
   },
   "outputs": [],
   "source": []
  },
  {
   "cell_type": "markdown",
   "source": [],
   "metadata": {
    "collapsed": false
   },
   "id": "8dd5d43d2148469c"
  },
  {
   "cell_type": "code",
   "execution_count": 1,
   "outputs": [],
   "source": [
    "payload = '{\"instances\":[[[[\"pLdM\",\"hJg1\",\"e483\",\"eo42\",\"eY8wmxK\",\"tXZT\",\"vX9a\",\"w4Ve\",\"v4Jb\",\"uX5Z\",\"sHVS\",\"nGJC\",\"iE8x\",\"j1U5\",\"qW1R\",\"v4Jk\",\"zY5w\",\"0pFy\",\"xoVl\",\"tXVT\",\"tXVS\",\"vn5a\",\"woFb\",\"w4Jc\",\"woFZ\",\"zoxn\",\"46F+\",\"5qWD\",\"3Z15\",\"0JFr\",\"0ZJq\",\"1ZRs\",\"1JFq\",\"0pBp\",\"yotm\",\"v4Vg\",\"voxl\",\"yp52\",\"1bGG\",\"1LaI\",\"0biJ\",\"4c+e\",\"6N2s\",\"5eCu\",\"5OOy\",\"6Om5\",\"6uy/\",\"5uq9\",\"3+a5\",\"3ee6\",\"5/LF\",\"3+y+\",\"4ey+\"]]]]}'"
   ],
   "metadata": {
    "collapsed": false,
    "ExecuteTime": {
     "end_time": "2024-04-03T03:19:19.068990800Z",
     "start_time": "2024-04-03T03:19:19.051562300Z"
    }
   },
   "id": "65476f5bc1b59863"
  },
  {
   "cell_type": "code",
   "execution_count": 2,
   "outputs": [
    {
     "data": {
      "text/plain": "array([[[['pLdM', 'hJg1', 'e483', 'eo42', 'eY8wmxK', 'tXZT', 'vX9a',\n          'w4Ve', 'v4Jb', 'uX5Z', 'sHVS', 'nGJC', 'iE8x', 'j1U5',\n          'qW1R', 'v4Jk', 'zY5w', '0pFy', 'xoVl', 'tXVT', 'tXVS',\n          'vn5a', 'woFb', 'w4Jc', 'woFZ', 'zoxn', '46F+', '5qWD',\n          '3Z15', '0JFr', '0ZJq', '1ZRs', '1JFq', '0pBp', 'yotm',\n          'v4Vg', 'voxl', 'yp52', '1bGG', '1LaI', '0biJ', '4c+e',\n          '6N2s', '5eCu', '5OOy', '6Om5', '6uy/', '5uq9', '3+a5',\n          '3ee6', '5/LF', '3+y+', '4ey+']]]], dtype='<U7')"
     },
     "execution_count": 2,
     "metadata": {},
     "output_type": "execute_result"
    }
   ],
   "source": [
    "import json\n",
    "import numpy as np\n",
    "payload = json.loads(payload)\n",
    "instances = payload[\"instances\"]\n",
    "np.array(instances)"
   ],
   "metadata": {
    "collapsed": false,
    "ExecuteTime": {
     "end_time": "2024-04-03T03:19:19.231761800Z",
     "start_time": "2024-04-03T03:19:19.063991900Z"
    }
   },
   "id": "4756c542d19821d0"
  },
  {
   "cell_type": "code",
   "execution_count": null,
   "outputs": [],
   "source": [],
   "metadata": {
    "collapsed": false
   },
   "id": "f1046741b39a2aa5"
  }
 ],
 "metadata": {
  "kernelspec": {
   "display_name": "Python 3",
   "language": "python",
   "name": "python3"
  },
  "language_info": {
   "codemirror_mode": {
    "name": "ipython",
    "version": 2
   },
   "file_extension": ".py",
   "mimetype": "text/x-python",
   "name": "python",
   "nbconvert_exporter": "python",
   "pygments_lexer": "ipython2",
   "version": "2.7.6"
  }
 },
 "nbformat": 4,
 "nbformat_minor": 5
}
